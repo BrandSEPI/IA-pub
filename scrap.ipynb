{
 "cells": [
  {
   "cell_type": "code",
   "execution_count": 4,
   "metadata": {},
   "outputs": [
    {
     "name": "stdout",
     "output_type": "stream",
     "text": [
      "Requirement already satisfied: requests in /home/brand/.virtualenvs/env/lib/python3.12/site-packages (2.32.3)\n",
      "Requirement already satisfied: pandas in /home/brand/.virtualenvs/env/lib/python3.12/site-packages (2.2.3)\n",
      "Requirement already satisfied: charset-normalizer<4,>=2 in /home/brand/.virtualenvs/env/lib/python3.12/site-packages (from requests) (3.4.0)\n",
      "Requirement already satisfied: idna<4,>=2.5 in /home/brand/.virtualenvs/env/lib/python3.12/site-packages (from requests) (3.10)\n",
      "Requirement already satisfied: urllib3<3,>=1.21.1 in /home/brand/.virtualenvs/env/lib/python3.12/site-packages (from requests) (2.2.3)\n",
      "Requirement already satisfied: certifi>=2017.4.17 in /home/brand/.virtualenvs/env/lib/python3.12/site-packages (from requests) (2024.8.30)\n",
      "Requirement already satisfied: numpy>=1.26.0 in /home/brand/.virtualenvs/env/lib/python3.12/site-packages (from pandas) (1.26.4)\n",
      "Requirement already satisfied: python-dateutil>=2.8.2 in /home/brand/.virtualenvs/env/lib/python3.12/site-packages (from pandas) (2.9.0.post0)\n",
      "Requirement already satisfied: pytz>=2020.1 in /home/brand/.virtualenvs/env/lib/python3.12/site-packages (from pandas) (2024.2)\n",
      "Requirement already satisfied: tzdata>=2022.7 in /home/brand/.virtualenvs/env/lib/python3.12/site-packages (from pandas) (2024.2)\n",
      "Requirement already satisfied: six>=1.5 in /home/brand/.virtualenvs/env/lib/python3.12/site-packages (from python-dateutil>=2.8.2->pandas) (1.16.0)\n"
     ]
    }
   ],
   "source": [
    "!pip install requests pandas"
   ]
  },
  {
   "cell_type": "code",
   "execution_count": 5,
   "metadata": {},
   "outputs": [],
   "source": [
    "import requests\n",
    "import pandas as pd"
   ]
  },
  {
   "cell_type": "code",
   "execution_count": 6,
   "metadata": {},
   "outputs": [
    {
     "ename": "NameError",
     "evalue": "name 'scrap_gares' is not defined",
     "output_type": "error",
     "traceback": [
      "\u001b[0;31m---------------------------------------------------------------------------\u001b[0m",
      "\u001b[0;31mNameError\u001b[0m                                 Traceback (most recent call last)",
      "Cell \u001b[0;32mIn[6], line 7\u001b[0m\n\u001b[1;32m      4\u001b[0m max_iterations \u001b[38;5;241m=\u001b[39m \u001b[38;5;241m1\u001b[39m  \u001b[38;5;66;03m# Ajustez cela selon vos besoins\u001b[39;00m\n\u001b[1;32m      6\u001b[0m \u001b[38;5;66;03m# Scraper les données\u001b[39;00m\n\u001b[0;32m----> 7\u001b[0m df_gares \u001b[38;5;241m=\u001b[39m \u001b[43mscrap_gares\u001b[49m(url, max_iterations)\n\u001b[1;32m      9\u001b[0m \u001b[38;5;66;03m# Vérifier si les données ont été récupérées avec succès\u001b[39;00m\n\u001b[1;32m     10\u001b[0m \u001b[38;5;28;01mif\u001b[39;00m df_gares \u001b[38;5;129;01mis\u001b[39;00m \u001b[38;5;129;01mnot\u001b[39;00m \u001b[38;5;28;01mNone\u001b[39;00m:\n\u001b[1;32m     11\u001b[0m     \u001b[38;5;66;03m# Sauvegarder les données dans un fichier CSV\u001b[39;00m\n",
      "\u001b[0;31mNameError\u001b[0m: name 'scrap_gares' is not defined"
     ]
    }
   ],
   "source": [
    "url = \"https://ressources.data.sncf.com/api/explore/v2.1/catalog/datasets/liste-des-gares/records\"\n",
    "\n",
    "# Nombre maximum d'itérations\n",
    "max_iterations = 1  # Ajustez cela selon vos besoins\n",
    "\n",
    "# Scraper les données\n",
    "df_gares = scrap_gares(url, max_iterations)\n",
    "\n",
    "# Vérifier si les données ont été récupérées avec succès\n",
    "if df_gares is not None:\n",
    "    # Sauvegarder les données dans un fichier CSV\n",
    "    df_gares.to_csv(\"./data/scrapped/city.csv\", index=False)\n",
    "    print(f\"Les données des gares ont été sauvegardées dans 'city.csv'. Total d'enregistrements : {len(df_gares)}\")\n",
    "else:\n",
    "    print(\"Aucune donnée n'a été récupérée.\")"
   ]
  },
  {
   "cell_type": "markdown",
   "metadata": {},
   "source": [
    "# TWITTER"
   ]
  },
  {
   "cell_type": "code",
   "execution_count": null,
   "metadata": {},
   "outputs": [
    {
     "name": "stdout",
     "output_type": "stream",
     "text": [
      "Requirement already satisfied: selenium==3.0.0 in /home/brand/.virtualenvs/env/lib/python3.12/site-packages (3.0.0)\n",
      "Collecting python-dotenv\n",
      "  Using cached python_dotenv-1.0.1-py3-none-any.whl.metadata (23 kB)\n",
      "Using cached python_dotenv-1.0.1-py3-none-any.whl (19 kB)\n",
      "Installing collected packages: python-dotenv\n",
      "Successfully installed python-dotenv-1.0.1\n",
      "Note: you may need to restart the kernel to use updated packages.\n"
     ]
    }
   ],
   "source": [
    "pip install selenium==3.0.0 python-dotenv"
   ]
  },
  {
   "cell_type": "code",
   "execution_count": 7,
   "metadata": {},
   "outputs": [],
   "source": [
    "from selenium import webdriver\n",
    "from selenium.webdriver.common.by import By\n",
    "from selenium.webdriver.common.keys import Keys\n",
    "import time\n",
    "from dotenv import load_dotenv\n",
    "import os\n",
    "load_dotenv()\n",
    "username = os.getenv(\"TWITTER_USERNAME\")\n",
    "password = os.getenv(\"TWITTER_PASSWORD\")\n",
    "telephone = os.getenv(\"TWITTER_TEL\")\n",
    "\n",
    "alert_message = \"Nous avons détecté\"\n"
   ]
  },
  {
   "cell_type": "code",
   "execution_count": 8,
   "metadata": {},
   "outputs": [],
   "source": [
    "driver = webdriver.Chrome(executable_path='/usr/bin/chromedriver')\n",
    "time.sleep(2)\n",
    "# Accéder à Twitter et chercher des tweets avec un mot-clé\n",
    "driver.get(\"https://twitter.com/search?q=voyage&src=typed_query&f=live\")\n",
    "time.sleep(3)\n",
    "\n",
    "def check_next_button_and_click():\n",
    "    try:\n",
    "        next_button = driver.find_element(By.XPATH, \"//span[text()='Suivant']\")\n",
    "        next_button.click()\n",
    "    except Exception as e:\n",
    "        print(\"Erreur lors du clic sur le bouton 'Suivant' :\", e)"
   ]
  },
  {
   "cell_type": "code",
   "execution_count": 9,
   "metadata": {},
   "outputs": [],
   "source": [
    "username_input = driver.find_element(By.NAME, \"text\")\n",
    "if username_input.get_attribute(\"value\") != username:\n",
    "    username_input.send_keys(username)\n",
    "check_next_button_and_click()\n",
    "time.sleep(2)\n",
    "try:\n",
    "    body = driver.find_element(By.TAG_NAME, \"body\").text\n",
    "    if alert_message in body:\n",
    "        print(\"Alerte détectée !\")\n",
    "        tel_input = driver.find_element(By.NAME, \"text\")\n",
    "        if tel_input.get_attribute(\"value\") != telephone:\n",
    "            tel_input.send_keys(telephone)\n",
    "        check_next_button_and_click()\n",
    "        time.sleep(2)\n",
    "except Exception as e:\n",
    "    print(\"Erreur lors du contournement la sécurité\", e)\n",
    "\n",
    "password_input = driver.find_element(By.NAME, \"password\")\n",
    "if password_input.get_attribute(\"value\") != password:\n",
    "    password_input.send_keys(password)\n",
    "next_button = driver.find_element(By.XPATH, \"//span[text()='Se connecter']\")\n",
    "next_button.click()\n",
    "\n"
   ]
  }
 ],
 "metadata": {
  "kernelspec": {
   "display_name": "env",
   "language": "python",
   "name": "python3"
  },
  "language_info": {
   "codemirror_mode": {
    "name": "ipython",
    "version": 3
   },
   "file_extension": ".py",
   "mimetype": "text/x-python",
   "name": "python",
   "nbconvert_exporter": "python",
   "pygments_lexer": "ipython3",
   "version": "3.12.6"
  }
 },
 "nbformat": 4,
 "nbformat_minor": 2
}
