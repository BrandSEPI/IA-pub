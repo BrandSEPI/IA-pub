{
 "cells": [
  {
   "cell_type": "code",
   "execution_count": 44,
   "metadata": {},
   "outputs": [
    {
     "name": "stdout",
     "output_type": "stream",
     "text": [
      "Requirement already satisfied: pandas in ./env/lib/python3.9/site-packages (2.2.3)\n",
      "Requirement already satisfied: numpy>=1.22.4 in ./env/lib/python3.9/site-packages (from pandas) (2.0.2)\n",
      "Requirement already satisfied: python-dateutil>=2.8.2 in ./env/lib/python3.9/site-packages (from pandas) (2.9.0.post0)\n",
      "Requirement already satisfied: pytz>=2020.1 in ./env/lib/python3.9/site-packages (from pandas) (2024.2)\n",
      "Requirement already satisfied: tzdata>=2022.7 in ./env/lib/python3.9/site-packages (from pandas) (2024.2)\n",
      "Requirement already satisfied: six>=1.5 in ./env/lib/python3.9/site-packages (from python-dateutil>=2.8.2->pandas) (1.16.0)\n",
      "Note: you may need to restart the kernel to use updated packages.\n"
     ]
    }
   ],
   "source": [
    "pip install pandas"
   ]
  },
  {
   "cell_type": "code",
   "execution_count": 45,
   "metadata": {},
   "outputs": [
    {
     "name": "stdout",
     "output_type": "stream",
     "text": [
      "Requirement already satisfied: networkx in ./env/lib/python3.9/site-packages (3.2.1)\n",
      "Note: you may need to restart the kernel to use updated packages.\n"
     ]
    }
   ],
   "source": [
    "pip install networkx"
   ]
  },
  {
   "cell_type": "code",
   "execution_count": 103,
   "metadata": {},
   "outputs": [],
   "source": [
    "import pandas as pd\n",
    "import networkx as nx\n",
    "from math import radians, cos, sin, asin, sqrt\n",
    "import re\n"
   ]
  },
  {
   "cell_type": "code",
   "execution_count": 47,
   "metadata": {},
   "outputs": [
    {
     "name": "stdout",
     "output_type": "stream",
     "text": [
      "                 trip_id                                             trajet  \\\n",
      "0  OCESN003100F140147152         Gare de Le Havre - Gare de Paris-St-Lazare   \n",
      "1  OCESN003190F040047309           Gare de Dieppe - Gare de Paris-St-Lazare   \n",
      "2  OCESN003198F030037315  Gare de Paris-St-Lazare - Gare de Rouen-Rive-D...   \n",
      "3  OCESN003300F030037323        Gare de Cherbourg - Gare de Paris-St-Lazare   \n",
      "4  OCESN003313F380387526             Gare de Caen - Gare de Paris-St-Lazare   \n",
      "\n",
      "   duree  \n",
      "0    138  \n",
      "1    145  \n",
      "2     97  \n",
      "3    194  \n",
      "4    149  \n"
     ]
    }
   ],
   "source": [
    "# Chargement du fichier timetables.csv\n",
    "df_timetables = pd.read_csv('timetables.csv', sep='\\t', on_bad_lines='skip')\n",
    "\n",
    "# Affichage des premières lignes pour vérifier que le fichier a bien été chargé\n",
    "print(df_timetables.head())"
   ]
  },
  {
   "cell_type": "code",
   "execution_count": 93,
   "metadata": {},
   "outputs": [],
   "source": [
    "# Fonction pour nettoyer les noms \n",
    "def nettoyer_nom_gare(nom):\n",
    "    # Remplacer les tirets multiples par un seul\n",
    "    nom = re.sub(r'-+', '-', nom)\n",
    "\n",
    "    # Supprimer les parenthèses et leur contenu\n",
    "    nom = re.sub(r'\\(.*?\\)', '', nom).strip()\n",
    "\n",
    "    # Supprimer les espaces multiples\n",
    "    nom = re.sub(r'\\s+', ' ', nom)\n",
    "\n",
    "    # Corriger les cas où il y a un tiret à la fin du nom\n",
    "    if nom.endswith('-'):\n",
    "        nom = nom.rstrip('-').strip()\n",
    "\n",
    "    return nom"
   ]
  },
  {
   "cell_type": "code",
   "execution_count": 94,
   "metadata": {},
   "outputs": [],
   "source": [
    "# Fonction pour découper les trajets avec un traitement spécial pour les noms composés\n",
    "def decouper_trajet(trajet):\n",
    "    # Découper en deux parties entre les gares uniquement, en séparant par \" - \"\n",
    "    villes = trajet.rsplit(' - ', 1) \n",
    "    \n",
    "    if len(villes) == 2:\n",
    "        depart = nettoyer_nom_gare(villes[0])\n",
    "        arrivee = nettoyer_nom_gare(villes[1])\n",
    "        return depart, arrivee\n",
    "    else:\n",
    "        print(f\"Erreur : Impossible de découper correctement le trajet {trajet}\")\n",
    "        return None, None"
   ]
  },
  {
   "cell_type": "code",
   "execution_count": 97,
   "metadata": {},
   "outputs": [
    {
     "name": "stdout",
     "output_type": "stream",
     "text": [
      "Gares dans le graphe : ['Gare de Le Havre', 'Gare de Paris-St-Lazare', 'Gare de Dieppe', 'Gare de Rouen-Rive-Droite', 'Gare de Cherbourg', 'Gare de Caen', 'Gare de Trouville-Deauville', 'Gare de Granville', 'Gare de Paris-Montp.3-Vaug.', 'Gare de Paris-Montparnasse 1-2', 'Gare de Dreux', 'Gare de Bourges', 'Gare de Paris-Austerlitz', 'Gare de Vierzon', 'Gare de Paris-Bercy', 'Gare de Nevers', 'Gare de Paris-Gare-de-Lyon', 'Gare de Argentan', 'Gare de Orléans', 'Gare de Tours', 'Gare de Aubrais', 'Gare de St-Pierre-des-Corps', 'Gare de Calais Ville', 'Gare de Paris Gare du Nord', 'Gare de Boulogne Ville', 'Gare de Amiens', 'Gare de Cambrai Ville', 'Gare de Maubeuge', 'Gare de St Quentin', 'Gare de Compiègne', 'Gare de Le Mans', 'Gare de Nogent-le-Rotrou', 'Gare de Chartres', 'Gare de Blois-Chambord', 'Gare de Lyon-Perrache', 'Gare de Latour-de-Carol-Enveitg', 'Gare de Villefranche-Vernet-l.B', 'Gare de Font-Romeu-Odeillo-Via', 'Gare de Briançon', 'Gare de Romans-Bourg-de-Péage', 'Gare de Veynes-Dévoluy', 'Gare de Gap', 'Gare de Valence-Ville', 'Gare de Marseille-St-Charles', 'Gare de Aix-en-Provence', 'Gare de Nice-Ville', 'Gare de Les Arcs-Draguignan', 'Gare de Grenoble', 'Gare de Chambéry-Chal.-les-Eaux', 'Gare de Annecy', 'Gare de Avignon-Centre', 'Gare de Lyon-Part-Dieu', 'Gare de Dijon-Ville', 'Gare de Sens', 'Gare de Mâcon-Ville', 'Gare de Bourg-St-Maurice', 'Gare de Bourgoin-Jallieu', 'Gare de Albertville', 'Gare de La Chaux-de-Fonds', 'Gare de Morteau', 'Gare de Besançon-Viotte', 'Gare de Besançon-Mouillère', 'Gare de Pontarlier', 'Gare de Vallorbe-Cff', 'Gare de Frasne', 'Gare de Neuchâtel', 'Gare de Travers', 'Gare de Dole-Ville', 'Gare de Delémont', 'Gare de Meroux', 'Gare de Delle', 'Gare de Biel', 'Gare de Modane', 'Gare de Aix-les-Bains-le-Revard', 'Gare de St-Gervais-L-B-Le-Fayet', 'Gare de Vallorcine', 'Gare de Chamonix-Mont-Blanc', 'Gare de Aulnoye Aymeries', 'Gare de Mons', 'Gare de Courtrai/Kortrijk', 'Gare de Lille Flandres', 'Gare de Namur', 'Gare de Tournai', 'Gare de Brive-la-Gaillarde', 'Gare de Ussel', 'Gare de Le Creusot', 'Gare de Montchanin', 'Gare de Tende', 'Gare de Breil-sur-Roya', 'Gare de Annemasse', 'Gare de Coppet', 'Gare de Decize', 'Gare de Genève', 'Gare de Evian-les-Bains', 'Gare de Thonon-les-Bains', 'Gare de La Roche-sur-Foron', 'Gare de Cluses', 'Gare de Forbach', 'Gare de Metz-Ville', 'Gare de Bening', 'Bitche', 'Gare de Haguenau', 'Gare de Niederbronn', 'Bitche-Camp', 'Gare de Strasbourg', 'Gare de Wissembourg', 'Bouxwiller-Schattenmann', 'Haguenau-Moulin-Neuf.', 'Gare de Saverne', 'Niedermodern/Uberach', 'Gare de Ingwiller', 'Dossenheim', 'Gare de Obermodern', 'Saverne', 'Bouxwiller-Babenhausen', 'Neuwiller-R.-Bouxwiller', 'Pfaffenhoffen-.', 'Gare de Sélestat', 'Gare de Benfeld', 'Gare de Colmar', 'Gare de Raedersheim', 'Buswiller-Eglise', 'Gare de Mommenheim', \"Ettendorf-Pl,-de-L'ecol\", 'Ettendorf', 'Gare de Diemeringen', 'Gare de Sarreguemines', 'Gare de Wingen-sur-Moder', 'Reipertswiller-SP.', 'Lichtenberg-.', 'Gare de Lutzelbourg', 'Gare de Kruth', 'Thann Arrêt La Poste', 'Gare de Mulhouse', 'Gare de Thann', 'Gare de Wesserling', 'Gare de Metzeral', 'Gare de Cernay', 'Sewen', 'Cernay', 'Gare de Basel-SBB', 'Frohmuhl', 'Hattmatt-S.-Polyvalente', 'Gare de Herrlisheim', 'Gare de Lauterbourg', 'Gare de Roeschwoog', 'Gare de Entzheim-Aéroport', 'Gare de Barr', 'Gare de Molsheim', 'Gare de Rothau', 'Gare de Saales', 'Gare de Altkirch', 'Gare de Belfort-Ville', 'Gare de Montreux-Vieux', 'Ribeauville-Gare-Routiè', 'Riquewihr-Poste', 'Ste-Marie-/-Mines-Maire', 'Gare de St-Dié-des-Vosges', 'Ste-Marie/-Ms-(-Théâtre', 'Ste-Croix/Mines-Sq-de-G', 'Sèlestat', 'Ste-Marie-/-Ms-Pl-.CdG', 'Liepvre', 'Sélestat', 'Lièpvre', 'Gare de Montluçon-Ville', 'Laqueuille', 'Le-Mont-Dore-Gare', 'Gare de Clermont-Ferrand', 'Gare de Gannat', 'Gare de Riom-Châtel-Guyon', 'Gare de Aurillac', 'Gare de St-Denis-près-Martel', 'Gare de Capdenac', 'Gare de Vichy', 'Saint-Etienne-Chtx GR', 'Gare de Thiers', 'Gare de Le Puy-en-Velay', 'Gare de Arvant', 'Gare de Moulins-sur-Allier', 'Gare de Volvic', 'Ancizes-St-Georges-Bour', \"Urcay-Hotel-du-Lyon-d'O\", 'Gare de St-Amand-Montrond-Orval', 'Gare de Vertaizon', 'St-Eloy', 'Gare de Lapeyrouse', 'St-Eloy-les-Mines-Lycée', 'St-Gervais-Mairie', 'Le Mont Dore Ski', 'St-Flour-les-Allées', 'Gare de Massiac-Blesle', \"Gare de St-Chély-d'Apcher\", 'Mauriac-Lycée-Cortat', 'Mauriac', 'St-Gervais-Ch-LPA.', 'Gare de Neussargues', 'Riom_Es_M_la_Poste.', 'Gare de St-Flour-Chaudes-Aigues', 'Pontgibaud-Ville', 'Brioude-Lycée-Lafayette', 'Gare de Brioude', 'Gare de Langeac', \"Gare de St-Georges-d'Aurac\", \"St-George-d'Aurac-Bourg\", 'La Chaise-Dieu', 'Ambert', 'Gare de Pont-de-Dore', 'Gare de Issoire', 'Gare de Vic-le-Comte', 'Issoire-Lycée-Deville', 'Le-Breuil-sur-Couze-Lyc', 'Gare de Luzy', 'Gare de Cercy-la-Tour', 'Gare de Autun', 'Gare de Etang', 'Gare de St-Pierre-le-Moûtier', 'Gare de Paray-le-Monial', 'Chauffailles-Gambetta', 'Gare de Digoin', 'Gare de Lozanne', 'Gare de Louhans', 'Gare de Seurre', 'Gare de Bourg-en-Bresse', 'Gare de Auxerre-St-Gervais', 'Gare de Avallon', 'Gare de Clamecy', 'Gare de Corbigny', 'Gare de Lorient', 'Gare de Quimperlé', 'Châteaubriant', 'Gare de Janzé', 'Gare de Retiers', 'Gare de Dinan', 'Gare de Dol', 'Gare de Valençay', 'Luçay-le-Male', 'Gare de Romorantin-Blanc-Argent', 'Gare de Salbris', \"Gare de Faubourg-d'Orléans\", 'La Ferté-sur-Chiers', 'Sedan-Place-Calonne', 'Gare de Châlons-en-Champagne', 'Gare de Verdun', 'Gare de St-Dizier', 'Gare de Vitry-le-François', 'Gare de Joinville', 'Gare de Chaumont', 'Langres-Gendarmerie', 'Gare de Troyes', 'Gare de Bar-sur-Aube', 'Juvancourt', 'Gare de Vendeuvre', 'Bayel-Eglise', 'Ville-sous-La-Ferté', 'Bricon', 'Gare de St-Florentin-Vergigny', 'Gare de Laroche-Migennes', 'Gare de Romilly-sur-Seine', 'Payns Abri Savières', 'Gare de Nogent-sur-Seine', 'Gare de Charleville-Mézières', 'Gare de Hirson', 'Gare de Fismes', 'Gare de Reims', 'Gare de Aillevillers', 'Gare de Lure', 'Gare de Le Locle', 'Gare de Le Valdahon', 'Gare de Mouchard', 'Gare de Lons-le-Saunier', 'Gare de Poligny', 'Dompierre-Halte-Rout.', 'Les Granges-Narboz', 'Jougne', 'Gare de Champagnole', 'Gare de Saint-Claude', 'Gare de Champagnole-PE-Victor', 'Gare de Andelot', 'Gare de Alès', 'Gare de Nîmes', 'Gare de La Bastide-St-Laurent', 'Gare de Langogne', 'Gare de Mende', 'Gare de Millau', 'Marvejols Place Chayla', 'Gare de Marvejols', 'Gare de Carcassonne', 'Quillan', 'Gare de Limoux', 'Gare de Bédarieux', 'Gare de Béziers', 'Gare de Guéret', 'Gare de Tulle', 'Gare de Egletons', 'Gare de Meymac', 'Bort-les-Orgues', 'Gare de Nancy-Ville', 'Mirecourt', 'Martigny-les-B-Thiebaut', 'Vézelise Beauregard', 'Damblain Eglise', 'Gare de Contrexéville', 'Gare de Vittel', 'Bitche-Quartier-Driant', 'Gare de Charmes', 'Igney', 'Sarrebourg-LP-Messmer', 'Gare de Sarrebourg', 'Gare de Longuyon', 'Gare de Longwy', 'Gare de Montmédy', 'Vezin-Carrefour', 'Gare de Morhange', 'Loudrefing', 'Gare de Rémilly', 'Longuyon', 'St-Jean-de-Bassel-Eglis', 'Gare de Neufchâteau', 'Fénétrange', 'Sarrebourg-Hôpital', 'Sarrebourg', 'Gare de Toul', 'Neufchateau-Lp', 'Allamps-Esat', 'Creutzwald G.R.', 'Gare de Thionville', 'Laveline-d-Bruy. Mairie', 'Gare de Epinal', 'Bruyères', 'Bouzonville', 'Kédange', 'Hombourg', 'Saint-Léonard Centre', 'Corcieux Le Conti', 'Gare de Arches', 'Bruyères Chanzy Gare', 'Perl Gare DB', 'Sarre-Union', 'Herbitzheim R. Hambach', 'Sarralbe Centre', 'Herbitzheim Mairie', 'Sarrebourg-Abri-Phalsbo', 'Berthelming-Mairie', 'Sarralbe', 'Keskastel', 'Gare de Bar-le-Duc', 'Gare de Revigny', 'Gare de Conflans-Jarny', 'Gare de Pagny-sur-Moselle', 'Gare de Figeac', 'Gare de Gramat', 'Gare de Mazamet', 'Gare de Toulouse-Matabiau', 'Gare de Muret', 'Gare de Pau', 'Gare de Agen', 'Gare de Castelsarrasin', 'Gare de Longages-Noé', 'St-Sulpice-sur-Lèze', 'Gare de Montréjeau-Gourdan-Pol.', 'Luchon-Richelieu', 'Gare de Ax-les-Thermes', 'Gare de Foix', 'Gare de Pamiers', 'Luchon', 'Latour de Carol', 'Gare de Souillac', 'Gare de Albi-Ville', 'Comines', 'Wambrechies', 'Gare de Abbeville', 'Gare de Rue', 'Gare de Lens', 'Gare de Avesnes', 'Gare de Hirson-Ecoles', 'Gare de Arras', 'Gare de Douai', 'Gare de Hazebrouck', 'Gare de Busigny', 'Gare de Calais Fréthun', 'Gare de Coutances', 'Gare de Lison', 'Gare de Pontorson-Mt-St-Michel', 'Vire-Centre', 'Gare de Flers', 'Bagnoles- Orne Egl.Mad.', 'Gare de Briouze', 'Gare de Alençon', 'Gare de Surdon', \"Gare de L'Aigle\", 'Gare de Lisieux', 'Gare de Dives-Cabourg', 'Gare de Evreux - Normandie', 'Gare de Serquigny', 'Gare de Villedieu', 'Le Mont St Michel', 'Gare de Rennes', 'Gare de Bréauté-Beuzeville', 'Gare de Fécamp', 'Gare de Mantes-la-Jolie', 'Pont-Audemer-Gare-SNCF', 'Rouen-Gare-Routière', 'Routot-Place-de-mairie', 'Bourg-Achard Champ de F', 'Gare de Nantes', 'Gare de St-Gilles-Croix-de-Vie', 'Gare de Cholet', 'Gare de Clisson', 'Gare de Albert', 'Gare de Beauvais-Gare-SNCF', 'Gare de Creil', 'Laon-Gare-Routière-Poma', 'Gare de Ribécourt', 'Gare de Tergnier', 'Gare de Chatellerault', 'Gare de Poitiers', 'Gare de Mauzé', 'Gare de Niort', 'Gare de Prissé-la-Charrière', 'Gare de Bressuire', 'Gare de Saumur', 'Gare de Thouars', 'Gare de La Roche-sur-Yon', 'Lyon-Part-Dieu-Gare-Rou', 'Gare de Valence-TGV', 'Grenoble-Gare-Routière', 'Valence-Gare-Routière', 'Gare de St-André-le-Gaz', 'Lyon-Perrache-Gare-Rout', 'Gare de Lyon-Gorge-de-Loup', 'Lyon-St-Paul-Quai-Bondy', 'Roanne-Gare-Routière', 'Grandris-Centre', 'Gare de Lamure-sur-Azergues', 'Poule-Mairie', \"Bois-d'Oingt-Centre\", 'Gare de Die', 'Gare de Luc-en-Diois', 'Annonay-Gare-Route', 'Privas-Cours-du-Palais', 'Montélimar-G-Routière', 'Gare de Moûtiers-Salins-Brides', 'Gare de Bonneville', 'Aubenas-Pl.-de-la-Paix', 'Bourg-en-Bresse Gare R', 'Gare de Oyonnax', 'Morez Lycée', 'Chamberry-Jacob', \"St-Martin-d'Hères\", 'Gare de Pont-de-Beauvoisin', 'Gare de St-Brieuc', 'Gare de Lamballe', 'Gare de Franois', 'Gare de St-Vit', 'Gare de Auxonne', 'Gare de Villers-les-Pots', 'Gare de Neuilly-lès-Dijon', 'Gare de Bellegarde-s-V. Gare', 'Gare de Ambérieu-en-Bugey', 'Gare de St-Rambert-en-Bugey', 'Gare de Virieu-le-Grand-Belley', 'Gare de Boën', 'Noirétable', 'Gare de Montbrison', 'Gare de Mâcon-Loché-TGV', 'Gare de La Tour-du-Pin', 'Gare de Clelles-Mens', 'Clelles-Mairie', 'Gare de Vif', 'Gare de Sain-Bel', 'Lyon-St-Paul-la-Feuilée', 'Vienne-Gare-Routière', 'Argentine', \"Gare de St-Pierre-d'Albigny\", 'Gare de St-Priest', 'St-Pierre-de-Chandieu-R', 'Gare de Villefranche-sur-Saône', 'Gare de Rives', 'Gare de Epierre-St-Léger', 'Gare de Culoz', 'Gare de Feurs', 'Gare de Albens', 'Gare de Rumilly', 'Gare de Sérézin', 'Ternay-Barbières', 'Communay-Stade', 'Gare de Montmélian', 'Gare de St-Jean-de-Maurienne-A.', 'Aiton-Salle-Polyvalente', 'Gare de Chinon', 'Chinon-Lycée-Rabelais', 'St Christophe / Nais C.', 'Gare de Château-du-Loir', 'Droué', 'Gare de Courtalain-St-Pellerin', 'Courtalain-Centre', 'Chartres-Gare-Routière', 'Gare de Brou', 'Gare de Vendôme', 'Mondoubleau-Rue-Leroy', 'Aubigny-sur-Nere-Mail', 'Gare de Gien', 'Montargis-OT', 'Gare de Cosne-sur-Loire', 'Sancerre-Porte-Cesar', 'Bourges-Gare-Routière', 'nan', 'Châteauroux Gare Rout.', 'Issoudun-Place-de-la-G.', 'Issoudun-Jardin', 'Gare de Issoudun', 'Poitiers-Gare-Routière', 'Le-Blanc-Pl-du-Bateau', 'Gare de Nouan-le-Fuzelier', 'Romorantin-BA-G.R.', 'Chaumont-sur-Tharonne', 'Gare de Lamotte-Beuvron', 'Romorantin-Lycée-de-F', 'Châteauroux-Ly-B-Pascal', 'Gare de Eguzon', 'Gare de Argenton-sur-Creuse', 'Châteauroux-Lycée-Agric', 'Gare de Thesee', 'St-Aignan-Lep', 'St-Aignan-Pl-Wilson', 'Gare de Loches', 'Buzançais', 'Chatillon-Mail', 'Châteauroux-Charmilles', 'Clion-sur-Indre', 'Gare de Cormery', 'Gare de La Douzillère', 'Gare de Montbazon', 'Chambourg-Chopin', 'Loches-Lycee-St-Denis', 'Truyes-St-Blaise', 'TOURS LYCEE GRANDMONT', 'Gare de Esvres', 'Reignac-Bourg-Du-Fau', 'Truyes-Pl-Du-Souvenir', 'Gare de Veigné', 'Loches-LEP', 'Châteauroux-L-Giraudoux', 'Vierzon-Médiathèque', 'Gare de Limeray', 'Gare de Châteaudun', 'Gare de Dourdan', 'Châteaudun-LEP-Paulsen', 'Gare de Château-Renault', 'Gare de Vendôme-Villiers-s-Loir', 'Gare de Lunéville', 'Rambervillers', 'Moyen', 'Luneville-LP', 'Lunéville', 'Gare de Remiremont', 'Gérardmer La Mauselaine', 'Bussang', 'Bresse-Claudel', 'La-Bresse', 'La Bresse Le Lispach', 'Gare de Audun-le-Roman', 'St-Louis-57-Incliné', 'Gare de Marle-sur-Serre', 'Lugny', 'BarentonÂ Cel', 'Gare de Verneuil-sur-Serre', 'Barenton-sur-Serre', 'Gare de WOERTH RHEIN', 'Gare de Neustadt Hbf', 'Gare de WINDEN PFALZ', 'Gare de Landau-Pfalz-Hbf', 'Gare de Fougères', 'Gare de Ventimiglia-Stazione', 'Gare de Grasse', 'Gare de Menton', 'Gare de Cannes-la-Bocca', 'Gare de Monaco-Monte-Carlo', 'Gare de Cannes', 'Gare de Saarbrücken /Sarrebruck', 'Gare de Trier-Hbf', 'Gare de Luxembourg', 'Gare de Rodange', 'Gare de Perpignan', 'Gare de Port-Bou', 'Gare de Narbonne', 'Gare de Montpellier-Saint-Roch', 'Gare de Offenburg', 'Gare de Kehl', 'Gare de Mullheim-Baden-Bf', 'Gare de Freiburg-Breisgau', 'Gare de Bettembourg', 'Gare de Munster', 'Gare de Thann-Saint-Jacques', 'Mutzig-Passage-A-Niveau', 'Gare de Erstein', 'Gare de Bayonne', 'Gare de Puyoô', 'Gare de Mont-de-Marsan', 'Gare de Morcenx', 'Gare de Bordeaux-St-Jean', 'Gare de Lesparre', 'Gare de Pauillac', 'Gare de Le-Verdon', 'Gare de Dax', 'Gare de Lourdes', 'Gare de Tarbes', 'Gare de Arcachon', 'Gare de Biganos-Facture', 'Gare de Périgueux', 'Gare de Condat-le-Lardin', 'Gare de Bedous', 'Gare de Oloron-Ste-Marie', 'Gare de Bidos', 'Gare de St-Jean-Pied-de-Port', 'Gare de Cambo-les-Bains', 'Gare de Hendaye', 'Gare de Bergerac', 'Gare de Libourne', 'Gare de St-Emilion', 'Gare de Sarlat', 'Gare de Langon', 'Gare de Monsempron-Libos', 'Gare de Commentry', 'Gare de Firminy', 'Gare de Vorey', 'Gare de Tonnerre', 'Gare de Montereau', 'Gare de Is-sur-Tille', 'Gare de Dijon-Porte-Neuve', 'Gare de Les Laumes-Alésia', 'Gare de Chagny', 'Gare de Nevers-Le-Banlay', 'Gare de Vesoul', 'Gare de Besançon-Franche-Comté', 'Gare de Vitré', 'Gare de Montauban-de-Bretagne', 'Gare de Messac-Guipry', 'Gare de Vannes', 'Gare de Redon', 'Gare de Beslé', 'Gare de Quimper', 'Gare de Rosporden', 'Gare de Brest', 'Gare de Morlaix', 'Gare de Landerneau', 'Gare de La Forest', 'Gare de Lannion', 'Gare de Guingamp', 'Gare de Carhaix', 'Gare de Port-de-Piles', 'Gare de Châteauroux', 'Gare de Toury', 'Gare de Port-Boulet', 'Gare de Château-Gaillard', 'Gare de La Verrière', 'Gare de Versailles-Chantiers', 'Gare de Givet', 'Gare de Nouzonville', 'Gare de Sedan', 'Gare de Rethel', 'Gare de Laon', 'Gare de Château-Thierry', 'Gare de Dormans', 'Gare de Epernay', 'Gare de Culmont-Chalindrey', 'Gare de Cerbère', 'Gare de Le Grau-du-Roi', 'Gare de Vauvert', 'Gare de Castelnaudary', 'Gare de Génolhac', 'Gare de Limoges-Bénédictins', 'Gare de Le Dorat', 'Gare de Saillat-Chassenon', 'Gare de St-Yrieix-la-Perche', 'Pompadour', 'Gare de Nexon', 'Gare de Objat', 'Gare de Pont-St-Vincent', 'Gare de Baroncourt', 'Gare de Hagondange', 'Gare de Liverdun', 'Gare de Rodez', 'Laissac-Foirail', 'Gare de St-Sulpice', 'Gare de Castres', 'Gare de Tessonnières', 'Gare de Auch', \"Gare de L'Isle-Jourdain\", 'Gare de Colomiers', 'Gare de Montauban-Ville-Bourbon', 'Gare de Cahors', 'Gare de Boussens', 'Gare de Rang du Fl. Verton Ber.', 'Gare de Mouscron / Moeskroen', 'Gare de Valenciennes', 'Gare de Jeumont', 'Gare de Charleroi Sud', 'Gare de St Pol sur Ternoise', 'Gare de Dunkerque', 'Gare de La Rochelle-Ville', 'Gare de Angers-St-Laud', 'Gare de Sablé-sur-Sarthe', 'Gare de Connerré-Beillé', 'Gare de Laval', 'Gare de Persan-Beaumont', 'Gare de St-Just-SNCF', 'Gare de Abancourt', 'Le Tréport-Mers-Les-B', 'Gare de Angoulême', 'Gare de Saintes', 'Gare de La-Rochelle-Pt-Dauphine', 'Gare de Rochefort', 'Gare de St-Mariens-St-Yzan', 'Gare de Royan', 'Gare de Toulon', 'Gare de St-Raphaël-Valescure', 'Gare de Sospel', \"Gare de Touet-de-l'Escarène\", 'Gare de Miramas', 'Aix-Gare-Routière', 'Gare de Gardanne', 'Gare de Sisteron', 'Gare de Martigues', 'Gare de Chedde', 'Gare de Krimmeri-Meinau', 'Gare de Obernai', 'Gare de Lutterbach Tram-train', 'Gare de Mulhouse-Gare-Centrale', 'Gare de Willer-sur-Thur', 'Gare de Paris-Est', 'Gare de Champagne-Ardenne', 'Gare de Longueville', 'Gare de Béthune', 'Gare de Etaples Le Touquet', 'Gare de Tourcoing', 'Gare de Lille Europe', 'Gare de St Omer', \"Gare de Clermont-de-l'Oise\", 'Gare de Crépy-en-Valois', 'Gare de Vernon-Giverny', 'Gare de Oissel', 'Gare de Montivilliers', 'Gare de Rolleville', 'Gare de Elbeuf-St-Aubin', 'Gare de Yvetot', 'Gare de Bueil', 'Gare de St-Lô', 'Gare de Montreuil-sur-Ille', 'Gare de St-Malo', 'Gare de Plouaret-Trégor', 'Gare de Callac', 'Gare de Paimpol', 'Gare de La Brohinière', 'Gare de Le Croisic', 'Gare de St-Nazaire', 'Gare de Savenay', \"Gare de Les Sables-d'Olonne\", 'Gare de Chantonnay', 'Gare de Ste-Pazanne', 'Gare de Pornic', 'Gare de Ancenis', 'Gare de Sucé-Sur-Erdre', 'Gare de Nort-sur-Erdre', 'Gare de Châteaubriant-TT', 'Gare de Reignac', 'Gare de Voves', 'Gare de Bléré-la-Croix', 'Gare de St-Aignan-Noyers', 'Gare de Vallon-en-Sully', 'Gare de Coutras', 'Gare de Mussidan', 'Gare de Le Buisson', 'Gare de Pessac', 'Gare de Macau', 'Gare de Marmande', 'Gare de St-Junien', 'Gare de Eymoutiers-Vassiviere', 'Gare de Felletin-Gare', 'Gare de La Souterraine', 'Gare de Carmaux', 'Gare de Saint-Cyprien-Arènes', 'Gare de Durtol-Nohanent', 'Gare de St-Germain-des-Fossés', 'Gare de Le Lioran', 'Gare de Lunel', 'Gare de Sète', 'Gare de Orange', 'Gare de Avignon-TGV', 'Gare de Carpentras', 'Gare de Cavaillon', 'Gare de Manosque-Gréoux', 'Gare de Aubagne', 'Gare de Marseille-Blancarde', 'Gare de Antibes', 'Gare de Hyères', 'Gare de Carnoules', 'Gare de Grenoble U.-Gières', 'Gare de St-Marcellin', 'Gare de Pierrelatte', 'Gare de St-Etienne-Châteaucreux', 'Gare de Givors-Ville', 'Gare de Roanne', 'Gare de Vienne', 'Gare de Sathonay-Rillieux', 'Gare de Bas-Monistrol', 'Gare de Lyon-St-Paul', \"Gare de L'Arbresle\", 'Gare de Tassin', 'Gare de Brignais', 'Gare de Chalon-sur-Saône', 'Gare de Montbéliard-Ville']\n"
     ]
    }
   ],
   "source": [
    "# Fonction pour construire le graphe à partir du CSV\n",
    "def construire_graphe_avec_csv(df_timetables):\n",
    "    G = nx.Graph()\n",
    "\n",
    "    # Boucle sur toutes les lignes du fichier timetables.csv\n",
    "    for index, row in df_timetables.iterrows():\n",
    "        trajet = row['trajet']\n",
    "        duree = row['duree']  # Récupérer la durée du trajet\n",
    "\n",
    "        # Découper le trajet en gare de départ et gare d'arrivée\n",
    "        depart, arrivee = decouper_trajet(trajet)\n",
    "\n",
    "        if depart and arrivee:\n",
    "            # Ajouter les gares comme nœuds et les trajets comme arêtes\n",
    "            G.add_node(depart)  # Ajouter la gare de départ comme nœud\n",
    "            G.add_node(arrivee)  # Ajouter la gare d'arrivée comme nœud\n",
    "            G.add_edge(depart, arrivee, weight=duree)  # Ajouter l'arête avec la durée comme poids\n",
    "        else:\n",
    "            print(f\"Impossible de traiter le trajet {trajet}\")\n",
    "\n",
    "    return G\n",
    "\n",
    "# Création du graphe à partir du CSV\n",
    "graphe = construire_graphe_avec_csv(df_timetables)\n",
    "\n",
    "# Vérifier que le graphe a bien été construit\n",
    "print(\"Gares dans le graphe :\", list(graphe.nodes()))"
   ]
  },
  {
   "cell_type": "code",
   "execution_count": 98,
   "metadata": {},
   "outputs": [],
   "source": [
    "# Fonction pour calculer la durée totale d'un chemin\n",
    "def calculer_duree_totale(G, chemin):\n",
    "    duree_totale = 0\n",
    "    for i in range(len(chemin) - 1):\n",
    "        # Récupérer la durée (poids) de l'arête entre deux gares consécutives\n",
    "        duree = G[chemin[i]][chemin[i + 1]]['weight']\n",
    "        duree_totale += duree\n",
    "    return duree_totale"
   ]
  },
  {
   "cell_type": "code",
   "execution_count": 99,
   "metadata": {},
   "outputs": [],
   "source": [
    "# Fonction pour calculer le chemin le plus court entre deux gares avec A* et la durée totale\n",
    "def trouver_chemin_le_plus_court(G, ville_depart, ville_arrivee): \n",
    "    if ville_depart in G.nodes() and ville_arrivee in G.nodes():\n",
    "        # Trouver le chemin avec A*\n",
    "        chemin = nx.astar_path(G, ville_depart, ville_arrivee, weight='weight')\n",
    "        # Calculer la durée totale du chemin\n",
    "        duree_totale = calculer_duree_totale(G, chemin)\n",
    "        return chemin, duree_totale\n",
    "    else:\n",
    "        print(f\"L'une des villes {ville_depart} ou {ville_arrivee} n'est pas présente dans le graphe.\")\n",
    "        return None, None"
   ]
  },
  {
   "cell_type": "code",
   "execution_count": 104,
   "metadata": {},
   "outputs": [
    {
     "name": "stdout",
     "output_type": "stream",
     "text": [
      "Chemin optimal : ['Gare de Rennes', 'Gare de Nantes', 'Gare de Tours', 'Gare de Nevers', 'Gare de Lyon-Perrache', 'Gare de Valence-Ville', 'Gare de Marseille-St-Charles']\n",
      "Durée totale du chemin : 765 minutes\n"
     ]
    }
   ],
   "source": [
    "# Exemple : Trouver le chemin entre Lyon et Paris avec la durée totale\n",
    "chemin_optimal, duree_totale = trouver_chemin_le_plus_court(graphe, 'Gare de Rennes', 'Gare de Marseille-St-Charles')\n",
    "\n",
    "print(\"Chemin optimal :\", chemin_optimal)\n",
    "print(\"Durée totale du chemin :\", duree_totale, \"minutes\")"
   ]
  }
 ],
 "metadata": {
  "kernelspec": {
   "display_name": "env",
   "language": "python",
   "name": "python3"
  },
  "language_info": {
   "codemirror_mode": {
    "name": "ipython",
    "version": 3
   },
   "file_extension": ".py",
   "mimetype": "text/x-python",
   "name": "python",
   "nbconvert_exporter": "python",
   "pygments_lexer": "ipython3",
   "version": "3.9.1"
  }
 },
 "nbformat": 4,
 "nbformat_minor": 2
}
